{
 "cells": [
  {
   "cell_type": "markdown",
   "metadata": {},
   "source": [
    "$y^{\\prime}=A y+f(t) \\qquad$ (1)"
   ]
  },
  {
   "cell_type": "markdown",
   "metadata": {},
   "source": [
    "$\\text {Варіант(5). } A=\\left(\\begin{array}{rrr}\n",
    "1 & 2 & 0 \\\\\n",
    "0 & 2 & 0 \\\\\n",
    "-2 & -2 & -1\n",
    "\\end{array}\\right), f(t)=\\left(\\begin{array}{c}\n",
    "\\cos t+e^{-t} \\\\\n",
    "2 \\sin t \\\\\n",
    "-\\cos t\n",
    "\\end{array}\\right)$"
   ]
  },
  {
   "cell_type": "markdown",
   "metadata": {},
   "source": [
    "$A$ - стала матриця розміру $3 \\times 3$ , $f(t)$ - тривимірні вектори"
   ]
  },
  {
   "cell_type": "markdown",
   "metadata": {},
   "source": [
    "# Завдання 1"
   ]
  },
  {
   "cell_type": "markdown",
   "metadata": {},
   "source": [
    "3найти загальний розв'язок відповідної однорідної системи  $y^{\\prime} =A y$"
   ]
  },
  {
   "cell_type": "markdown",
   "metadata": {},
   "source": [
    "$\\begin{array}{c}\n",
    "\\left|\\begin{array}{cccc}\n",
    "1-\\lambda & 2 & 0 \\\\\n",
    "0 & 2 -\\lambda & 0 \\\\\n",
    "-2 & -2 & -1-\\lambda\n",
    "\\end{array}\\right|=0  \\\\\n",
    "(1 -\\lambda)(2 - \\lambda)(-1 - \\lambda)=0 \\quad \\lambda_{1}=1, v_{1}=\\left(\\begin{array}{c}\n",
    "1 \\\\\n",
    "0 \\\\\n",
    "-1\n",
    "\\end{array}\\right) \\quad \\lambda_{2}=2, v_{2}=\\left(\\begin{array}{c}\n",
    "3 \\\\\n",
    "3 \\\\\n",
    "-4\n",
    "\\end{array}\\right) \\quad \\lambda_{3}=-1, v_{3}=\\left(\\begin{array}{c}\n",
    "1 \\\\\n",
    "0 \\\\\n",
    "-1\n",
    "\\end{array}\\right) \\\\\n",
    "\\left(\\begin{array}{c}\n",
    "{x} \\\\\n",
    "{y} \\\\\n",
    "{z}\n",
    "\\end{array}\\right)=C_{1} e^{t}\\left(\\begin{array}{c}\n",
    "1 \\\\\n",
    "0 \\\\\n",
    "-1\n",
    "\\end{array}\\right)+C_{2} e^{2 t}\\left(\\begin{array}{c}\n",
    "3 \\\\\n",
    "3 \\\\\n",
    "-4\n",
    "\\end{array}\\right)+C_{3} e^{-t}\\left(\\begin{array}{c}\n",
    "1 \\\\\n",
    "0 \\\\\n",
    "-1\n",
    "\\end{array}\\right)\n",
    "\\end{array}$"
   ]
  },
  {
   "cell_type": "markdown",
   "metadata": {},
   "source": [
    "# Завдання 2"
   ]
  },
  {
   "cell_type": "markdown",
   "metadata": {},
   "source": [
    "Знайти розв'язок неоднорідної системи (1) , викортстовуючи метод невизначених коефіцієнтів"
   ]
  },
  {
   "cell_type": "markdown",
   "metadata": {},
   "source": [
    "$$f_{1}=\\cos t + e^{-t} \\text{ розділимо на дві частини} f_{1} = f_{11} +f_{12}$$\n",
    "\n",
    "$$ f_{11} = \\cos t = c_{1} \\cos t + c_{2} \\sin t $$\n",
    "\n",
    "$$\n",
    "\\left\\{\\begin{array}{l}\n",
    "x_{\\text {part}, 11}=A_{1} \\cos t + A_{2} \\sin t \\\\\n",
    "y_{\\text {part}, 11}=B_{1} \\cos t + B_{2} \\sin t \\\\\n",
    "z_{\\text {part}, 11}=C_{1} \\cos t + C_{2} \\sin t\n",
    "\\end{array}\\right.\n",
    "$$\n",
    "\n",
    "Знайдемо коефіцієнти:\n",
    "$\n",
    "\\left\\{\\begin{array}{lll}\n",
    "-A_{1} = A_{2} + 2 B_{2} & B_{2} = -B_{1} & -C_{1} = -2 A_{2} - C_{2} \\\\\n",
    "A_{2} = A_{1} + 2 B_{1} + 1 & B_{2} = B_{1} & C_{2} = -2 A_{1}  - C_{1}  \\\\\n",
    "\\end{array} \\right.\n",
    "$\n",
    "$\\Rightarrow A_{1}=\\frac{1}{2}, A_{2} = -\\frac{1}{2} ,  B_{1}=0, B_{2} = 0 , C_{1}= -1 , C_{2} = 0$\n",
    "\n",
    "$$\n",
    "\\left\\{\\begin{array}{l}\n",
    "x_{\\text {part}, 11}=\\frac{1}{2} \\cos t -\\frac{1}{2} \\sin t \\\\\n",
    "y_{\\text {part}, 11}=0 \\\\\n",
    "z_{\\text {part}, 11}= - \\cos t \n",
    "\\end{array}\\right.\n",
    "$$\n",
    "\n",
    "$$ f_{12} =  e^{-t} = e^{\\sigma t} P_{n}(t)$$"
   ]
  },
  {
   "cell_type": "markdown",
   "metadata": {},
   "source": [
    "$$\n",
    "\\left\\{\\begin{array}{l}\n",
    "x_{\\text {part}, 12}=(A_{1} t + A_{2}) e^{-t} \\\\\n",
    "y_{\\text {part}, 12}=(B_{1} t + B_{2}) e^{-t} \\\\\n",
    "z_{\\text {part}, 12}=(C_{1} t + C_{2}) e^{-t}\n",
    "\\end{array}\\right.\n",
    "$$\n",
    "\n",
    "Знайдемо коефіцієнти:\n",
    "$\n",
    "\\left\\{\\begin{array}{lll}\n",
    "-A_{1} = A_{1} + 2B_{1} & -B_{1} = B_{1} & C_{1} = 2 A_{2} - B_{2} \\\\\n",
    "-A_{2} + A_{1} = A_{2} + B_{2} + 1 & - B_{2} + B_{1} = B_{2} & -2A_{2} - 2B_{1} = 0 &  \\\\\n",
    "\\end{array} \\right.\n",
    "$\n",
    "\n",
    "$\\Rightarrow A_{1}= 0, A_{2} = -\\frac{1}{2} ,  B_{1}=0, B_{2} = 0 , C_{1}= -1 , C_{2} = 0$\n",
    "\n",
    "$$\n",
    "\\left\\{\\begin{array}{l}\n",
    "x_{\\text {part}, 12}= -\\frac{1}{2} e^{-t} \\\\\n",
    "y_{\\text {part}, 12}=0 \\\\\n",
    "z_{\\text {part}, 12}= - t e^{-t} \n",
    "\\end{array}\\right.\n",
    "$$\n",
    "\n",
    "$$\n",
    "\\left\\{\\begin{array}{l}\n",
    "x_{\\text {part}, 1}= -\\frac{1}{2} e^{-t} + \\frac{1}{2} \\cos t -\\frac{1}{2} \\sin t \\\\\n",
    "y_{\\text {part}, 1}=0 \\\\\n",
    "z_{\\text {part}, 1}= - t e^{-t}  - \\cos t\n",
    "\\end{array}\\right.\n",
    "$$"
   ]
  },
  {
   "cell_type": "markdown",
   "metadata": {},
   "source": [
    "$$f_{2}=2 \\sin t$$\n",
    "\n",
    "$$\n",
    "\\left\\{\\begin{array}{l}\n",
    "x_{\\text {part}, 2}=A_{1} \\cos t + A_{2} \\sin t \\\\\n",
    "y_{\\text {part}, 2}=B_{1} \\cos t + B_{2} \\sin t \\\\\n",
    "z_{\\text {part}, 2}=C_{1} \\cos t + C_{2} \\sin t\n",
    "\\end{array}\\right.\n",
    "$$\n",
    "\n",
    "Знайдемо коефіцієнти:\n",
    "$\n",
    "\\left\\{\\begin{array}{lll}\n",
    "-A_{1} = A_{2} + 2 B_{2} & - B_{1} = 2B_{2} + 2 & -C_{1} = -2 A_{2} - 2 B_{2} - C_{2} \\\\\n",
    "A_{2} = A_{1} + 2 B_{1} & B_{2} = 2 B_{1} & C_{2} = -2 A_{1} -2B_{1} - C_{1}  \\\\\n",
    "\\end{array} \\right.\n",
    "$\n",
    "$\\Rightarrow A_{1}=\\frac{6}{5}, A_{2} = \\frac{2}{5} ,  B_{1}=-\\frac{2}{5}, B_{2} = -\\frac{4}{5} , C_{1}= -\\frac{6}{5} , C_{2} = -\\frac{2}{5}$\n",
    "\n",
    "$$\n",
    "\\left\\{\\begin{array}{l}\n",
    "x_{\\text {part}, 2}=\\frac{6}{5} \\cos t +\\frac{2}{5} \\sin t \\\\\n",
    "y_{\\text {part}, 2}= -\\frac{2}{5} \\cos t - \\frac{4}{5} \\sin t \\\\\n",
    "z_{\\text {part}, 2}= -\\frac{6}{5} \\cos t - \\frac{2}{5} \\sin t \n",
    "\\end{array}\\right.\n",
    "$$\n"
   ]
  },
  {
   "cell_type": "markdown",
   "metadata": {},
   "source": [
    "$$f_{3}= - \\cos t$$\n",
    "\n",
    "$$\n",
    "\\left\\{\\begin{array}{l}\n",
    "x_{\\text {part}, 3}=A_{1} \\cos t + A_{2} \\sin t \\\\\n",
    "y_{\\text {part}, 3}=B_{1} \\cos t + B_{2} \\sin t \\\\\n",
    "z_{\\text {part}, 3}=C_{1} \\cos t + C_{2} \\sin t\n",
    "\\end{array}\\right.\n",
    "$$\n",
    "\n",
    "Знайдемо коефіцієнти:\n",
    "$\n",
    "\\left\\{\\begin{array}{lll}\n",
    "-A_{1} = A_{2} + 2 B_{2} & - B_{1} = 2B_{2} & -C_{1} = -2 A_{2} - 2 B_{2} - C_{2} \\\\\n",
    "A_{2} = A_{1} + 2 B_{1} & B_{2} = 2 B_{1} & C_{2} = -2 A_{1} -2B_{1} - C_{1} - 1  \\\\\n",
    "\\end{array} \\right.\n",
    "$\n",
    "$\\Rightarrow A_{1}= 0 , A_{2} = 0 ,  B_{1}= 0, B_{2} = 0 , C_{1}= \\frac{1}{2} , C_{2} = \\frac{1}{2}$\n",
    "\n",
    "$$\n",
    "\\left\\{\\begin{array}{l}\n",
    "x_{\\text {part}, 3}= 0  \\\\\n",
    "y_{\\text {part}, 3}= 0 \\\\\n",
    "z_{\\text {part}, 3}= \\frac{1}{2} \\cos t + \\frac{1}{2} \\sin t \n",
    "\\end{array}\\right.\n",
    "$$\n"
   ]
  },
  {
   "cell_type": "markdown",
   "metadata": {},
   "source": [
    "Та сумуючи усе вийде :\n",
    "$$\n",
    "\\left\\{ \\begin{array}{l}\n",
    "x_{\\text{total}} = C_{1} e^{t} + 3 C_{2} e^{2t} + C_{3} e^{-t} + \\frac{17}{10} \\cos t - \\frac{1}{10} \\sin t - \\frac{1}{2} e^{-t}  \\\\\n",
    "y_{\\text{total}} = 3 C_{2} e^{2t} - \\frac{2}{5} \\cos t - \\frac{4}{5} \\sin t \\\\\n",
    "z_{\\text{total}} = -C_{1} e^{t} + -4 C_{2} e^{2t} -1 C_{3} e^{-t} - \\frac{17}{10} \\cos t + \\frac{1}{10} \\sin t - t e^{-t}\n",
    "\\end{array} \\right.\n",
    "$$"
   ]
  },
  {
   "cell_type": "markdown",
   "metadata": {},
   "source": [
    "# Завдання 3"
   ]
  },
  {
   "cell_type": "markdown",
   "metadata": {},
   "source": [
    "Знайти розв'язок задачі Коші з початковими даними $x(0) = 0 , y(0) = 0 , z(0)  = 0$"
   ]
  },
  {
   "cell_type": "markdown",
   "metadata": {},
   "source": [
    "$\\left\\{\\begin{array}{l} C_{1} + 3C_{2} + C_{3} = 0 \\\\\n",
    "3C_{2} = 0 \\\\\n",
    "-C_{1} - 4C_{2} - C_{3} = 0 \\end{array} \\right.$ => $C_{2} = 0 , C_{1} = -C_{3}$ => Часний розв'язок $C_{1} = 1 , C_{2} = 0 , C_{3} = -1$\n",
    "$$\\left\\{\\begin{array}{l} {x} = e^{t} - e^{-t} \\\\\n",
    "{y} = 0 \\\\\n",
    "{z} = -e^{t} + e^{-t}  \\end{array} \\right.$$"
   ]
  },
  {
   "cell_type": "markdown",
   "metadata": {},
   "source": [
    "# Завдання 2.1\n"
   ]
  },
  {
   "cell_type": "markdown",
   "metadata": {},
   "source": [
    "Розв'язати систему $\\dot{x}=A x$ матричним методом"
   ]
  },
  {
   "cell_type": "markdown",
   "metadata": {},
   "source": [
    "де $A=\\left(\\begin{array}{ll}\n",
    "3 & -2 \\\\\n",
    "4 & -1\n",
    "\\end{array}\\right)$"
   ]
  },
  {
   "cell_type": "markdown",
   "metadata": {},
   "source": [
    "$\\left|\\begin{array}{cccc}\n",
    "3-\\lambda & -2  \\\\\n",
    "4 & -1 -\\lambda \\\\\n",
    "\\end{array}\\right|=(3 - \\lambda)(-1 - \\lambda) + 8 = 0$\n",
    "$\\quad \\Longrightarrow \\quad \\lambda_{1} = 1 - 2i \\quad \\lambda_{2} = 1 + 2i$\n"
   ]
  },
  {
   "cell_type": "markdown",
   "metadata": {},
   "source": [
    "$A = H^{-1} J_{A} H$ тоді відповідно $A H = J_{A} H^{-1}$"
   ]
  },
  {
   "cell_type": "markdown",
   "metadata": {},
   "source": [
    "$J_{A} = \\left( \\begin{array}{c c} 1 - 2 i & 0 \\\\ 0 & 1 + 2i \\end{array} \\right)$"
   ]
  },
  {
   "cell_type": "markdown",
   "metadata": {},
   "source": [
    "$\\left(\\begin{array}{cc}\n",
    "a_{1} & a_{2}  \\\\\n",
    "b_{1} & b_{2}  \\\\\n",
    "\\end{array}\\right)\\left(\\begin{array}{cc}\n",
    "3 & -2  \\\\\n",
    "4 & -1  \\\\\n",
    "\\end{array}\\right)=\\left(\\begin{array}{cc}\n",
    " 1 - 2 i & 0 \\\\ 0 & 1 + 2i\n",
    "\\end{array}\\right)\\left(\\begin{array}{ccc}\n",
    "a_{1} & a_{2}  \\\\\n",
    "b_{1} & b_{2}  \\\\\n",
    "\\end{array}\\right)$"
   ]
  },
  {
   "cell_type": "markdown",
   "metadata": {},
   "source": [
    "$\\left\\{\\begin{array}{ll}\n",
    "3 a_{1}+ 4 a_{2} & =a_{1}(1 - 2i) \\\\\n",
    "-2 a_{1}-a_{2} & = a_{2}(1 - 2i) \n",
    "\\end{array}\\right.$"
   ]
  },
  {
   "cell_type": "markdown",
   "metadata": {},
   "source": [
    "$\\left\\{\\begin{array}{ll}\n",
    "3 b_{1}+ 4 b_{2} & =b_{1}(1 + 2i) \\\\\n",
    "-2 b_{1}-b_{2} & = b_{2}(1 + 2i) \n",
    "\\end{array}\\right. \\Longrightarrow a_{1} = a_{2}(i - 1) \\text{ де  } a_{2} - \\text{вільне} \\quad b_{1} = - b_{2} (1 + i) \\text{ де  } b_{2} - \\text{вільне}$\n",
    "$$ a_{1} = i - 1 \\quad a_{2} = 1 \\quad b_{1} = -(i + 1) \\quad b_{2} = 1 $$"
   ]
  },
  {
   "cell_type": "markdown",
   "metadata": {},
   "source": [
    "$H = \\left( \\begin{array}{c c} 1 - i & 1 \\\\ -(i + 1) & 1  \\end{array} \\right) \\quad H^{-1} = \\frac{1}{2} \\left( \\begin{array}{c c} - i & i \\\\ 1 - i & 1 + i  \\end{array} \\right)$"
   ]
  },
  {
   "cell_type": "markdown",
   "metadata": {},
   "source": [
    "$e^{At} = H^{-1} e^{J_{A}} H$ (при цьому розділивши цілу та уявну частину вийде) $= e^{t} C_{1} \\left( \\begin{array}{c} - 2 \\cos 2 t \\\\ -2 \\sin 2 t - 2 \\cos 2 t \\end{array} \\right) + e^{t} C_{2} \\left( \\begin{array}{c} - 2 \\sin 2 t \\\\ 2 \\cos 2 t - 2\\ \\sin 2 t \\end{array} \\right)\n",
    "$"
   ]
  }
 ],
 "metadata": {
  "kernelspec": {
   "display_name": "Python 3",
   "language": "python",
   "name": "python3"
  },
  "language_info": {
   "codemirror_mode": {
    "name": "ipython",
    "version": 3
   },
   "file_extension": ".py",
   "mimetype": "text/x-python",
   "name": "python",
   "nbconvert_exporter": "python",
   "pygments_lexer": "ipython3",
   "version": "3.7.4"
  }
 },
 "nbformat": 4,
 "nbformat_minor": 2
}
